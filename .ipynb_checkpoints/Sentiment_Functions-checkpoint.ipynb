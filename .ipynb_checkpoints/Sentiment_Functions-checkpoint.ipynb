{
 "cells": [
  {
   "cell_type": "code",
   "execution_count": 1,
   "metadata": {},
   "outputs": [],
   "source": [
    "# Define function to calculate the sentiment score of an article's text\n",
    "\n",
    "def sentiment_word_score(article_text, dictionary):\n",
    "    \"\"\"\n",
    "    Return count of positive words according to L&M dictionary\n",
    "    \"\"\"\n",
    "    # Count the positive words in the article\n",
    "    sent_word_count = 0\n",
    "    for word in article_text:\n",
    "        for sent_word in dictionary:\n",
    "            #print(\"pos_word:\", pos_word)\n",
    "            if (word == pos_word):\n",
    "                #print(\"word match!\")\n",
    "                sent_word_count += 1  \n",
    "    \n",
    "    article_word_count = len(article_text.split())\n",
    "    \n",
    "    return sent_word_count/article_word_count"
   ]
  }
 ],
 "metadata": {
  "kernelspec": {
   "display_name": "Python 3",
   "language": "python",
   "name": "python3"
  },
  "language_info": {
   "codemirror_mode": {
    "name": "ipython",
    "version": 3
   },
   "file_extension": ".py",
   "mimetype": "text/x-python",
   "name": "python",
   "nbconvert_exporter": "python",
   "pygments_lexer": "ipython3",
   "version": "3.7.4"
  }
 },
 "nbformat": 4,
 "nbformat_minor": 2
}
